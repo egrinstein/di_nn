{
 "cells": [
  {
   "cell_type": "markdown",
   "id": "1726ec94",
   "metadata": {},
   "source": [
    "## 0. Imports"
   ]
  },
  {
   "cell_type": "code",
   "execution_count": 1,
   "id": "df1b2799",
   "metadata": {},
   "outputs": [],
   "source": [
    "import torch\n",
    "import matplotlib.pyplot as plt\n",
    "import numpy as np\n",
    "\n",
    "from hydra.core.global_hydra import GlobalHydra\n",
    "from hydra import compose, initialize\n",
    "\n",
    "import sys\n",
    "\n",
    "sys.path.append(\"../\")\n",
    "\n",
    "from di_nn.datasets import DistributedSSLDataset\n",
    "from di_nn.di_ssl_net import DISSLNET\n",
    "from di_nn.trainer import DISSLNETLightniningModule\n",
    "\n",
    "GlobalHydra.instance().clear()\n",
    "initialize(config_path=\"../config\")\n",
    "config = compose(\"config\")\n",
    "\n",
    "MODEL_CHECKPOINT_PATH = \"./pretrained_weights.ckpt\"\n",
    "DEMO_DATASET_PATH = \"./testing_samples\""
   ]
  },
  {
   "cell_type": "markdown",
   "id": "98ce19df",
   "metadata": {},
   "source": [
    "## 1. Load model and dataset"
   ]
  },
  {
   "cell_type": "code",
   "execution_count": 2,
   "id": "e0659dde",
   "metadata": {},
   "outputs": [
    {
     "data": {
      "text/plain": [
       "<All keys matched successfully>"
      ]
     },
     "execution_count": 2,
     "metadata": {},
     "output_type": "execute_result"
    }
   ],
   "source": [
    "dataset = DistributedSSLDataset(DEMO_DATASET_PATH)\n",
    "\n",
    "dataloader = torch.utils.data.DataLoader(\n",
    "    dataset,\n",
    "    batch_size=1,\n",
    "    shuffle=False,\n",
    "    pin_memory=True,\n",
    "    drop_last=False,\n",
    "    num_workers=1\n",
    ")\n",
    "\n",
    "dataloader = iter(dataloader)\n",
    "\n",
    "model = DISSLNETLightniningModule(config)\n",
    "model.eval()\n",
    "torch.set_grad_enabled(False)\n",
    "checkpoint = torch.load(MODEL_CHECKPOINT_PATH, map_location=torch.device('cpu'))\n",
    "model.load_state_dict(checkpoint[\"state_dict\"])\n"
   ]
  },
  {
   "cell_type": "markdown",
   "id": "f5217464",
   "metadata": {},
   "source": [
    "## 2. Evaluate dataset samples on model"
   ]
  },
  {
   "cell_type": "code",
   "execution_count": null,
   "id": "3e5e2099",
   "metadata": {},
   "outputs": [
    {
     "name": "stdout",
     "output_type": "stream",
     "text": [
      "True vs estimated coordinates: [2.7 1.2] [2.7098007 1.1963917]\n",
      "Error (meters): 0.010443819\n",
      "\n",
      "\n",
      "True vs estimated coordinates: [4.3 1.2] [4.399105  1.1978729]\n",
      "Error (meters): 0.09912771\n",
      "\n",
      "\n",
      "True vs estimated coordinates: [7.5 1.2] [7.4723206 1.2005477]\n",
      "Error (meters): 0.027684862\n",
      "\n",
      "\n",
      "True vs estimated coordinates: [7.5 1.2] [6.955812  1.2071037]\n",
      "Error (meters): 0.5442344\n",
      "\n",
      "\n"
     ]
    }
   ],
   "source": [
    "while True:\n",
    "    try:\n",
    "        batch = next(dataloader)\n",
    "    except StopIteration:\n",
    "        break\n",
    "    model_output = model(batch[0])[0].numpy()\n",
    "\n",
    "    true_coords = batch[1][\"source_coordinates\"][0].numpy()\n",
    "    \n",
    "    print(\"True vs estimated coordinates:\", true_coords, model_output)\n",
    "    #print(\"Predicted coordinates:\", model_output)\n",
    "    print(\"Error (meters):\", np.linalg.norm(true_coords - model_output))\n",
    "    print(\"\\n\")"
   ]
  },
  {
   "cell_type": "code",
   "execution_count": null,
   "id": "d7ca3df0",
   "metadata": {},
   "outputs": [],
   "source": []
  }
 ],
 "metadata": {
  "kernelspec": {
   "display_name": "Python 3 (ipykernel)",
   "language": "python",
   "name": "python3"
  },
  "language_info": {
   "codemirror_mode": {
    "name": "ipython",
    "version": 3
   },
   "file_extension": ".py",
   "mimetype": "text/x-python",
   "name": "python",
   "nbconvert_exporter": "python",
   "pygments_lexer": "ipython3",
   "version": "3.9.7"
  }
 },
 "nbformat": 4,
 "nbformat_minor": 5
}
