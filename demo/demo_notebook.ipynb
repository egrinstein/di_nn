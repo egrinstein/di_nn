{
 "cells": [
  {
   "cell_type": "markdown",
   "id": "1726ec94",
   "metadata": {},
   "source": [
    "## 0. Imports"
   ]
  },
  {
   "cell_type": "code",
   "execution_count": 9,
   "id": "df1b2799",
   "metadata": {},
   "outputs": [
    {
     "name": "stderr",
     "output_type": "stream",
     "text": [
      "/var/folders/_y/3m7prfyd5pl5pw63fntczlp80000gp/T/ipykernel_52222/3631635962.py:17: UserWarning: \n",
      "The version_base parameter is not specified.\n",
      "Please specify a compatability version level, or None.\n",
      "Will assume defaults for version 1.1\n",
      "  initialize(config_path=\"../config\")\n"
     ]
    }
   ],
   "source": [
    "import torch\n",
    "import matplotlib.pyplot as plt\n",
    "import numpy as np\n",
    "\n",
    "from hydra.core.global_hydra import GlobalHydra\n",
    "from hydra import compose, initialize\n",
    "\n",
    "import sys\n",
    "\n",
    "sys.path.append(\"../\")\n",
    "\n",
    "from di_nn.datasets import DistributedSSLDataset\n",
    "from di_nn.di_ssl_net import DISSLNET\n",
    "from di_nn.trainer import DISSLNETLightniningModule\n",
    "\n",
    "GlobalHydra.instance().clear()\n",
    "initialize(config_path=\"../config\")\n",
    "config = compose(\"config\")\n",
    "\n",
    "MODEL_CHECKPOINT_PATH = \"./pretrained_weights.ckpt\"\n",
    "DEMO_DATASET_PATH = \"./testing_samples\""
   ]
  },
  {
   "cell_type": "markdown",
   "id": "98ce19df",
   "metadata": {},
   "source": [
    "## 1. Load model and dataset"
   ]
  },
  {
   "cell_type": "code",
   "execution_count": 20,
   "id": "e0659dde",
   "metadata": {},
   "outputs": [
    {
     "data": {
      "text/plain": [
       "<All keys matched successfully>"
      ]
     },
     "execution_count": 20,
     "metadata": {},
     "output_type": "execute_result"
    }
   ],
   "source": [
    "dataset = DistributedSSLDataset(DEMO_DATASET_PATH,\n",
    "                                metadata_microphone_std_in_m=0.0,\n",
    "                                metadata_rt60_std_in_ms=1000)\n",
    "\n",
    "dataloader = torch.utils.data.DataLoader(\n",
    "    dataset,\n",
    "    batch_size=1,\n",
    "    shuffle=False,\n",
    "    pin_memory=True,\n",
    "    drop_last=False,\n",
    "    num_workers=1\n",
    ")\n",
    "\n",
    "dataloader = iter(dataloader)\n",
    "\n",
    "model = DISSLNETLightniningModule(config)\n",
    "model.eval()\n",
    "torch.set_grad_enabled(False)\n",
    "checkpoint = torch.load(MODEL_CHECKPOINT_PATH, map_location=torch.device('cpu'))\n",
    "model.load_state_dict(checkpoint[\"state_dict\"])\n"
   ]
  },
  {
   "cell_type": "markdown",
   "id": "f5217464",
   "metadata": {},
   "source": [
    "## 2. Evaluate dataset samples on model"
   ]
  },
  {
   "cell_type": "code",
   "execution_count": 21,
   "id": "3e5e2099",
   "metadata": {},
   "outputs": [
    {
     "name": "stdout",
     "output_type": "stream",
     "text": [
      "True vs estimated coordinates: [2.7 1.2] [2.7244563 1.2100601]\n",
      "Error (meters): 0.026444543\n",
      "\n",
      "\n",
      "True vs estimated coordinates: [4.3 1.2] [4.3423724 1.1823423]\n",
      "Error (meters): 0.04590427\n",
      "\n",
      "\n",
      "True vs estimated coordinates: [7.5 1.2] [7.461317  1.1922424]\n",
      "Error (meters): 0.03945315\n",
      "\n",
      "\n",
      "True vs estimated coordinates: [7.5 1.2] [6.9783673 1.2218285]\n",
      "Error (meters): 0.5220892\n",
      "\n",
      "\n"
     ]
    }
   ],
   "source": [
    "while True:\n",
    "    try:\n",
    "        batch = next(dataloader)\n",
    "    except StopIteration:\n",
    "        break\n",
    "    model_output = model(batch[0])[0].numpy()\n",
    "\n",
    "    true_coords = batch[1][\"source_coordinates\"][0].numpy()\n",
    "    \n",
    "    print(\"True vs estimated coordinates:\", true_coords, model_output)\n",
    "    #print(\"Predicted coordinates:\", model_output)\n",
    "    print(\"Error (meters):\", np.linalg.norm(true_coords - model_output))\n",
    "    print(\"\\n\")"
   ]
  }
 ],
 "metadata": {
  "kernelspec": {
   "display_name": "Python 3 (ipykernel)",
   "language": "python",
   "name": "python3"
  },
  "language_info": {
   "codemirror_mode": {
    "name": "ipython",
    "version": 3
   },
   "file_extension": ".py",
   "mimetype": "text/x-python",
   "name": "python",
   "nbconvert_exporter": "python",
   "pygments_lexer": "ipython3",
   "version": "3.9.7"
  }
 },
 "nbformat": 4,
 "nbformat_minor": 5
}
