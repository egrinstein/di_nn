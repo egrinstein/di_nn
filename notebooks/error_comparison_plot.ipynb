{
 "cells": [
  {
   "cell_type": "code",
   "execution_count": 19,
   "id": "2016bab9",
   "metadata": {},
   "outputs": [
    {
     "data": {
      "image/png": "[encoded data removed]",
      "text/plain": [
       "<Figure size 360x216 with 1 Axes>"
      ]
     },
     "metadata": {
      "needs_background": "light"
     },
     "output_type": "display_data"
    }
   ],
   "source": [
    "import random\n",
    "import pandas as pd\n",
    "import numpy as np\n",
    "import matplotlib.pyplot as plt\n",
    "\n",
    "method_names = [\"LS-SSL\", \"CRNN\", \"DI-NN (ours)\"]\n",
    "experiment_names = [\"Anechoic\", \"Reverberant\", \"Real recordings\"]\n",
    "results = np.array([\n",
    "    [0.0062, 0.6143, 1.0321],\n",
    "    [0.33904157, 0.43419793, 0.44967796],\n",
    "    [0.12770427, 0.22872601, 0.22102697]\n",
    "])\n",
    "\n",
    "error_bars = [\n",
    "    None,\n",
    "    [0.00851741, 0.02456199, 0.02531248],\n",
    "    [0.00692888, 0.00597679, 0.02140559]\n",
    "]\n",
    "\n",
    "index = np.arange(len(experiment_names))\n",
    "bar_width = 0.2\n",
    "\n",
    "fig, ax = plt.subplots(figsize=(5, 3))\n",
    "\n",
    "for i, method_name in enumerate(method_names):\n",
    "    crnn = ax.bar(index + i*bar_width, results[i], bar_width,\n",
    "                    label=method_name, yerr=error_bars[i], capsize=5)\n",
    "# ls_ssl = ax.bar(index + bar_width, results[1], bar_width,\n",
    "#                 label=network_types[1])\n",
    "# di_nn = ax.bar(index + 2*bar_width, results[2], bar_width,\n",
    "#                 label=network_types[2])\n",
    "\n",
    "#ax.set_xlabel('Dataset type')\n",
    "ax.set_ylabel('Error (cm)')\n",
    "ax.set_xticks(index + bar_width)\n",
    "ax.set_xticklabels(experiment_names)\n",
    "ax.set_title(\"Error comparison for the different datasets\")\n",
    "ax.legend()\n",
    "\n",
    "#plt.show()\n",
    "plt.savefig(\"/Users/ezajlerg/Desktop/errors.pdf\")"
   ]
  },
  {
   "cell_type": "code",
   "execution_count": null,
   "id": "8c6a70d5",
   "metadata": {},
   "outputs": [],
   "source": []
  }
 ],
 "metadata": {
  "kernelspec": {
   "display_name": "Python 3 (ipykernel)",
   "language": "python",
   "name": "python3"
  },
  "language_info": {
   "codemirror_mode": {
    "name": "ipython",
    "version": 3
   },
   "file_extension": ".py",
   "mimetype": "text/x-python",
   "name": "python",
   "nbconvert_exporter": "python",
   "pygments_lexer": "ipython3",
   "version": "3.9.7"
  }
 },
 "nbformat": 4,
 "nbformat_minor": 5
}
